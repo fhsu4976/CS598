{
  "nbformat": 4,
  "nbformat_minor": 0,
  "metadata": {
    "colab": {
      "provenance": [],
      "include_colab_link": true
    },
    "kernelspec": {
      "name": "python3",
      "display_name": "Python 3"
    },
    "language_info": {
      "name": "python"
    }
  },
  "cells": [
    {
      "cell_type": "markdown",
      "metadata": {
        "id": "view-in-github",
        "colab_type": "text"
      },
      "source": [
        "<a href=\"https://colab.research.google.com/github/fhsu4976/CS598/blob/main/cs598ver1.ipynb\" target=\"_parent\"><img src=\"https://colab.research.google.com/assets/colab-badge.svg\" alt=\"Open In Colab\"/></a>"
      ]
    },
    {
      "cell_type": "code",
      "source": [
        "from google.colab import drive\n",
        "drive.mount('/DLH/')"
      ],
      "metadata": {
        "colab": {
          "base_uri": "https://localhost:8080/"
        },
        "id": "B_GOStLifO0e",
        "outputId": "f17489c5-a216-4545-8316-f1e84755ee1e"
      },
      "execution_count": 1,
      "outputs": [
        {
          "output_type": "stream",
          "name": "stdout",
          "text": [
            "Drive already mounted at /DLH/; to attempt to forcibly remount, call drive.mount(\"/DLH/\", force_remount=True).\n"
          ]
        }
      ]
    },
    {
      "cell_type": "markdown",
      "source": [
        "# Query-Focused EHR Summarization Reproduction (MIMIC-III subset, All 3 model variations)\n",
        "\n",
        "# --- 1. Install Required Libraries ---"
      ],
      "metadata": {
        "id": "awxV9_sPB4io"
      }
    },
    {
      "cell_type": "code",
      "source": [
        "!pip install transformers datasets scikit-learn spacy matplotlib --quiet\n",
        "!python -m spacy download en_core_web_sm"
      ],
      "metadata": {
        "colab": {
          "base_uri": "https://localhost:8080/"
        },
        "id": "JGacSHcxB6Az",
        "outputId": "e43d8120-9f09-49cc-f37b-e537a803db15"
      },
      "execution_count": 2,
      "outputs": [
        {
          "output_type": "stream",
          "name": "stdout",
          "text": [
            "Collecting en-core-web-sm==3.8.0\n",
            "  Downloading https://github.com/explosion/spacy-models/releases/download/en_core_web_sm-3.8.0/en_core_web_sm-3.8.0-py3-none-any.whl (12.8 MB)\n",
            "\u001b[2K     \u001b[90m━━━━━━━━━━━━━━━━━━━━━━━━━━━━━━━━━━━━━━━━\u001b[0m \u001b[32m12.8/12.8 MB\u001b[0m \u001b[31m38.6 MB/s\u001b[0m eta \u001b[36m0:00:00\u001b[0m\n",
            "\u001b[?25h\u001b[38;5;2m✔ Download and installation successful\u001b[0m\n",
            "You can now load the package via spacy.load('en_core_web_sm')\n",
            "\u001b[38;5;3m⚠ Restart to reload dependencies\u001b[0m\n",
            "If you are in a Jupyter or Colab notebook, you may need to restart Python in\n",
            "order to load all the package's dependencies. You can do this by selecting the\n",
            "'Restart kernel' or 'Restart runtime' option.\n"
          ]
        }
      ]
    },
    {
      "cell_type": "markdown",
      "source": [
        "# --- 2. Import Packages ---"
      ],
      "metadata": {
        "id": "eJdyKdgwB98D"
      }
    },
    {
      "cell_type": "code",
      "source": [
        "import random\n",
        "import torch\n",
        "import torch.nn as nn\n",
        "import torch.optim as optim\n",
        "import numpy as np\n",
        "import spacy\n",
        "from transformers import AutoTokenizer, AutoModel\n",
        "from sklearn.feature_extraction.text import TfidfVectorizer\n",
        "from sklearn.metrics.pairwise import cosine_similarity\n",
        "from sklearn.metrics import roc_auc_score, average_precision_score, precision_recall_curve, roc_curve\n",
        "import matplotlib.pyplot as plt\n",
        "import os\n",
        "import json\n",
        "import gzip\n",
        "import json\n",
        "import psutil\n",
        "import pickle"
      ],
      "metadata": {
        "id": "sN7Uj7NoB_65"
      },
      "execution_count": 3,
      "outputs": []
    },
    {
      "cell_type": "markdown",
      "source": [
        "# --- 3. Set Device ---"
      ],
      "metadata": {
        "id": "Hrm06I11CncD"
      }
    },
    {
      "cell_type": "code",
      "source": [
        "device = torch.device(\"cuda\" if torch.cuda.is_available() else \"cpu\")\n"
      ],
      "metadata": {
        "id": "ULDbD47HCn1y"
      },
      "execution_count": 4,
      "outputs": []
    },
    {
      "cell_type": "markdown",
      "source": [
        "# --- 4. Load Preprocessed MIMIC-III Subset ---"
      ],
      "metadata": {
        "id": "5Vw0FGsKCtEd"
      }
    },
    {
      "cell_type": "code",
      "source": [
        "import random\n",
        "import torch\n",
        "import torch.nn as nn\n",
        "import torch.optim as optim\n",
        "import numpy as np\n",
        "import spacy\n",
        "from transformers import AutoTokenizer, AutoModel\n",
        "from sklearn.feature_extraction.text import TfidfVectorizer\n",
        "from sklearn.metrics.pairwise import cosine_similarity\n",
        "from sklearn.metrics import roc_auc_score, average_precision_score, precision_recall_curve, roc_curve\n",
        "import matplotlib.pyplot as plt\n",
        "import os\n",
        "import json\n",
        "import gzip\n",
        "import json\n",
        "import psutil\n",
        "import csv\n",
        "import random\n",
        "from typing import List, Dict\n",
        "import sys\n",
        "\n",
        "device = torch.device(\"cuda\" if torch.cuda.is_available() else \"cpu\")\n",
        "\n",
        "\n",
        "def log_memory(note):\n",
        "    mem = psutil.virtual_memory()\n",
        "    used = mem.used / (1024**3)\n",
        "    print(f\"[RAM] {note}: {used:.2f} GB used\")\n",
        "\n",
        "DATA_PATH = \"/DLH/MyDrive/DLH\"\n",
        "SAMPLE_SIZE = 5\n",
        "SEED = 42\n",
        "\n",
        "# 1) allow arbitrarily large fields\n",
        "csv.field_size_limit(sys.maxsize)\n",
        "\n",
        "def load_random_csv_samples(\n",
        "    filepath: str,\n",
        "    sample_size: int = 10,\n",
        "    seed: int = None\n",
        ") -> List[Dict[str, str]]:\n",
        "    \"\"\"\n",
        "    Reservoir-sample `sample_size` rows from a (possibly gzipped) CSV file.\n",
        "    Each row is returned as a dict keyed by the top-level columns.\n",
        "    \"\"\"\n",
        "    if seed is not None:\n",
        "        random.seed(seed)\n",
        "\n",
        "    # 2) peek at the first two bytes to see if it’s gzipped\n",
        "    with open(filepath, \"rb\") as f:\n",
        "        magic = f.read(2)\n",
        "    opener = gzip.open if magic == b\"\\x1f\\x8b\" else open\n",
        "\n",
        "    reservoir: List[Dict[str, str]] = []\n",
        "    with opener(filepath, mode=\"rt\", encoding=\"utf-8\", errors=\"replace\", newline=\"\") as f:\n",
        "        reader = csv.DictReader(f)  # uses the header row: reports,future_reports,targets,labels,all_codes,timepoint\n",
        "        for idx, row in enumerate(reader):\n",
        "            if idx < sample_size:\n",
        "                reservoir.append(row)\n",
        "            else:\n",
        "                j = random.randrange(idx + 1)\n",
        "                if j < sample_size:\n",
        "                    reservoir[j] = row\n",
        "\n",
        "    return reservoir\n",
        "\n",
        "\n",
        "train_data = load_random_csv_samples(f\"{DATA_PATH}/train.data\", sample_size=SAMPLE_SIZE, seed=SEED)\n",
        "samples   = load_random_csv_samples(f\"{DATA_PATH}/val.data\",   sample_size=SAMPLE_SIZE, seed=SEED)\n",
        "test_data  = load_random_csv_samples(f\"{DATA_PATH}/test.data\",  sample_size=SAMPLE_SIZE, seed=SEED)\n",
        "\n",
        "for i, row in enumerate(samples, 1):\n",
        "    print(f\"--- Sample #{i} (timepoint={row['timepoint']}) ---\")\n",
        "    # just show the first 80 chars of each big field\n",
        "    for col in [\"reports\", \"future_reports\", \"targets\", \"labels\", \"all_codes\"]:\n",
        "        snippet = row[col].replace(\"\\n\", \" \")[:80]\n",
        "        print(f\"{col[:12]:12}: {snippet!r}…\")\n",
        "    print()\n",
        "\n",
        "# sanity-check your keys\n",
        "print(\"Keys in one sample:\", list(test_data[0].keys()))\n",
        "# now this will work:\n",
        "patient_sentences = {item[\"patient_id\"]: item[\"sentences\"] for item in test_data}\n",
        "queries = test_data[0][\"queries\"]\n",
        "print(patient_sentences, queries)\n",
        "\n",
        "nlp = spacy.load(\"en_core_web_sm\")\n",
        "log_memory(\"After spaCy load\")\n",
        "\n",
        "patient_sentences = {item[\"patient_id\"]: item[\"sentences\"] for item in test_data}\n",
        "queries = test_data[0][\"queries\"]\n",
        "query_descriptions = {q: q.replace(\"_\", \" \") for q in queries.keys()}\n"
      ],
      "metadata": {
        "id": "ELTj68TSCwQs",
        "colab": {
          "base_uri": "https://localhost:8080/",
          "height": 957
        },
        "outputId": "7d445055-e6fb-45e5-950c-dc69ac5525fe"
      },
      "execution_count": null,
      "outputs": [
        {
          "output_type": "stream",
          "name": "stdout",
          "text": [
            "--- Sample #1 (timepoint=2160-05-22) ---\n",
            "reports     : 'patient_id,hadm_id,date,report_type,description,text,from_table,other_info 3178,'…\n",
            "future_repor: 'patient_id,hadm_id,date,report_type,description,text,from_table,other_info 3178,'…\n",
            "targets     : '[\"(\\'ICD10\\', \\'N179\\')\", \"(\\'ICD10\\', \\'M109\\')\", \"(\\'ICD10\\', \\'T782XXA\\')\", \"(\\'ICD10\\', \\'T'…\n",
            "labels      : '[1, 1, 1, 1, 1, 1, 1, 1, 1, 1, 1, 1, 1, 1, 1, 1, 1, 1, 1, 1, 1, 1, 1, 1, 1, 1, 1'…\n",
            "all_codes   : 'patient_id,hadm_id,date,flag,name,code_type,code,from_table,other_info 3178,1238'…\n",
            "\n",
            "--- Sample #2 (timepoint=2127-09-24) ---\n",
            "reports     : 'patient_id,hadm_id,date,report_type,description,text,from_table,other_info 24074'…\n",
            "future_repor: 'patient_id,hadm_id,date,report_type,description,text,from_table,other_info 24074'…\n",
            "targets     : '[\"(\\'ICD10\\', \\'Z950\\')\", \"(\\'ICD10\\', \\'I4\\')\", \"(\\'ICD10\\', \\'Z\\')\", \"(\\'ICD10\\', \\'I50\\')\", \"'…\n",
            "labels      : '[1, 1, 1, 1, 1, 1, 1, 1, 1, 1, 1, 1, 1, 1, 1, 1, 1, 1, 1, 1, 1, 1, 1, 1, 1, 0, 0'…\n",
            "all_codes   : 'patient_id,hadm_id,date,flag,name,code_type,code,from_table,other_info 24074,119'…\n",
            "\n",
            "--- Sample #3 (timepoint=2125-02-26) ---\n",
            "reports     : 'patient_id,hadm_id,date,report_type,description,text,from_table,other_info 72329'…\n",
            "future_repor: 'patient_id,hadm_id,date,report_type,description,text,from_table,other_info 72329'…\n",
            "targets     : '[\"(\\'ICD10\\', \\'J981\\')\", \"(\\'ICD10\\', \\'N189\\')\", \"(\\'ICD10\\', \\'F06\\')\", \"(\\'ICD10\\', \\'N18\\')'…\n",
            "labels      : '[1, 1, 1, 1, 1, 1, 1, 1, 1, 1, 1, 1, 1, 1, 1, 1, 1, 1, 1, 1, 1, 1, 1, 1, 1, 1, 1'…\n",
            "all_codes   : 'patient_id,hadm_id,date,flag,name,code_type,code,from_table,other_info 72329,133'…\n",
            "\n",
            "--- Sample #4 (timepoint=2148-07-14) ---\n",
            "reports     : 'patient_id,hadm_id,date,report_type,description,text,from_table,other_info 71878'…\n",
            "future_repor: 'patient_id,hadm_id,date,report_type,description,text,from_table,other_info 71878'…\n",
            "targets     : '[\"(\\'ICD10\\', \\'N1\\')\", \"(\\'ICD10\\', \\'N189\\')\", \"(\\'ICD10\\', \\'I\\')\", \"(\\'ICD10\\', \\'N18\\')\", \"'…\n",
            "labels      : '[1, 1, 1, 1, 1, 1, 1, 1, 0, 0, 0, 0, 0, 0, 0, 0, 0, 0, 0, 0, 0, 0, 0, 0, 0, 0, 0'…\n",
            "all_codes   : 'patient_id,hadm_id,date,flag,name,code_type,code,from_table,other_info 71878,106'…\n",
            "\n",
            "--- Sample #5 (timepoint=2178-03-12) ---\n",
            "reports     : 'patient_id,hadm_id,date,report_type,description,text,from_table,other_info 28073'…\n",
            "future_repor: 'patient_id,hadm_id,date,report_type,description,text,from_table,other_info 28073'…\n",
            "targets     : '[\"(\\'ICD10\\', \\'N179\\')\", \"(\\'ICD10\\', \\'N189\\')\", \"(\\'ICD10\\', \\'N18\\')\", \"(\\'ICD10\\', \\'Z87\\')'…\n",
            "labels      : '[1, 1, 1, 1, 1, 1, 1, 1, 1, 1, 1, 1, 1, 1, 1, 1, 1, 1, 1, 1, 1, 1, 1, 1, 1, 1, 1'…\n",
            "all_codes   : 'patient_id,hadm_id,date,flag,name,code_type,code,from_table,other_info 28073,140'…\n",
            "\n",
            "Keys in one sample: ['reports', 'future_reports', 'targets', 'labels', 'all_codes', 'timepoint']\n"
          ]
        },
        {
          "output_type": "error",
          "ename": "KeyError",
          "evalue": "'patient_id'",
          "traceback": [
            "\u001b[0;31m---------------------------------------------------------------------------\u001b[0m",
            "\u001b[0;31mKeyError\u001b[0m                                  Traceback (most recent call last)",
            "\u001b[0;32m<ipython-input-13-705bcfbd5ae8>\u001b[0m in \u001b[0;36m<cell line: 0>\u001b[0;34m()\u001b[0m\n\u001b[1;32m     81\u001b[0m \u001b[0mprint\u001b[0m\u001b[0;34m(\u001b[0m\u001b[0;34m\"Keys in one sample:\"\u001b[0m\u001b[0;34m,\u001b[0m \u001b[0mlist\u001b[0m\u001b[0;34m(\u001b[0m\u001b[0mtest_data\u001b[0m\u001b[0;34m[\u001b[0m\u001b[0;36m0\u001b[0m\u001b[0;34m]\u001b[0m\u001b[0;34m.\u001b[0m\u001b[0mkeys\u001b[0m\u001b[0;34m(\u001b[0m\u001b[0;34m)\u001b[0m\u001b[0;34m)\u001b[0m\u001b[0;34m)\u001b[0m\u001b[0;34m\u001b[0m\u001b[0;34m\u001b[0m\u001b[0m\n\u001b[1;32m     82\u001b[0m \u001b[0;31m# now this will work:\u001b[0m\u001b[0;34m\u001b[0m\u001b[0;34m\u001b[0m\u001b[0m\n\u001b[0;32m---> 83\u001b[0;31m \u001b[0mpatient_sentences\u001b[0m \u001b[0;34m=\u001b[0m \u001b[0;34m{\u001b[0m\u001b[0mitem\u001b[0m\u001b[0;34m[\u001b[0m\u001b[0;34m\"patient_id\"\u001b[0m\u001b[0;34m]\u001b[0m\u001b[0;34m:\u001b[0m \u001b[0mitem\u001b[0m\u001b[0;34m[\u001b[0m\u001b[0;34m\"sentences\"\u001b[0m\u001b[0;34m]\u001b[0m \u001b[0;32mfor\u001b[0m \u001b[0mitem\u001b[0m \u001b[0;32min\u001b[0m \u001b[0mtest_data\u001b[0m\u001b[0;34m}\u001b[0m\u001b[0;34m\u001b[0m\u001b[0;34m\u001b[0m\u001b[0m\n\u001b[0m\u001b[1;32m     84\u001b[0m \u001b[0mqueries\u001b[0m \u001b[0;34m=\u001b[0m \u001b[0mtest_data\u001b[0m\u001b[0;34m[\u001b[0m\u001b[0;36m0\u001b[0m\u001b[0;34m]\u001b[0m\u001b[0;34m[\u001b[0m\u001b[0;34m\"queries\"\u001b[0m\u001b[0;34m]\u001b[0m\u001b[0;34m\u001b[0m\u001b[0;34m\u001b[0m\u001b[0m\n\u001b[1;32m     85\u001b[0m \u001b[0mprint\u001b[0m\u001b[0;34m(\u001b[0m\u001b[0mpatient_sentences\u001b[0m\u001b[0;34m,\u001b[0m \u001b[0mqueries\u001b[0m\u001b[0;34m)\u001b[0m\u001b[0;34m\u001b[0m\u001b[0;34m\u001b[0m\u001b[0m\n",
            "\u001b[0;32m<ipython-input-13-705bcfbd5ae8>\u001b[0m in \u001b[0;36m<dictcomp>\u001b[0;34m(.0)\u001b[0m\n\u001b[1;32m     81\u001b[0m \u001b[0mprint\u001b[0m\u001b[0;34m(\u001b[0m\u001b[0;34m\"Keys in one sample:\"\u001b[0m\u001b[0;34m,\u001b[0m \u001b[0mlist\u001b[0m\u001b[0;34m(\u001b[0m\u001b[0mtest_data\u001b[0m\u001b[0;34m[\u001b[0m\u001b[0;36m0\u001b[0m\u001b[0;34m]\u001b[0m\u001b[0;34m.\u001b[0m\u001b[0mkeys\u001b[0m\u001b[0;34m(\u001b[0m\u001b[0;34m)\u001b[0m\u001b[0;34m)\u001b[0m\u001b[0;34m)\u001b[0m\u001b[0;34m\u001b[0m\u001b[0;34m\u001b[0m\u001b[0m\n\u001b[1;32m     82\u001b[0m \u001b[0;31m# now this will work:\u001b[0m\u001b[0;34m\u001b[0m\u001b[0;34m\u001b[0m\u001b[0m\n\u001b[0;32m---> 83\u001b[0;31m \u001b[0mpatient_sentences\u001b[0m \u001b[0;34m=\u001b[0m \u001b[0;34m{\u001b[0m\u001b[0mitem\u001b[0m\u001b[0;34m[\u001b[0m\u001b[0;34m\"patient_id\"\u001b[0m\u001b[0;34m]\u001b[0m\u001b[0;34m:\u001b[0m \u001b[0mitem\u001b[0m\u001b[0;34m[\u001b[0m\u001b[0;34m\"sentences\"\u001b[0m\u001b[0;34m]\u001b[0m \u001b[0;32mfor\u001b[0m \u001b[0mitem\u001b[0m \u001b[0;32min\u001b[0m \u001b[0mtest_data\u001b[0m\u001b[0;34m}\u001b[0m\u001b[0;34m\u001b[0m\u001b[0;34m\u001b[0m\u001b[0m\n\u001b[0m\u001b[1;32m     84\u001b[0m \u001b[0mqueries\u001b[0m \u001b[0;34m=\u001b[0m \u001b[0mtest_data\u001b[0m\u001b[0;34m[\u001b[0m\u001b[0;36m0\u001b[0m\u001b[0;34m]\u001b[0m\u001b[0;34m[\u001b[0m\u001b[0;34m\"queries\"\u001b[0m\u001b[0;34m]\u001b[0m\u001b[0;34m\u001b[0m\u001b[0;34m\u001b[0m\u001b[0m\n\u001b[1;32m     85\u001b[0m \u001b[0mprint\u001b[0m\u001b[0;34m(\u001b[0m\u001b[0mpatient_sentences\u001b[0m\u001b[0;34m,\u001b[0m \u001b[0mqueries\u001b[0m\u001b[0;34m)\u001b[0m\u001b[0;34m\u001b[0m\u001b[0;34m\u001b[0m\u001b[0m\n",
            "\u001b[0;31mKeyError\u001b[0m: 'patient_id'"
          ]
        }
      ]
    },
    {
      "cell_type": "markdown",
      "source": [
        "# --- 5. Initialize Tokenizer and ClinicalBERT ---"
      ],
      "metadata": {
        "id": "3ay5R2HCCxdO"
      }
    },
    {
      "cell_type": "code",
      "source": [
        "MODEL_NAME = \"emilyalsentzer/Bio_ClinicalBERT\"\n",
        "tokenizer = AutoTokenizer.from_pretrained(MODEL_NAME)\n",
        "bert_model = AutoModel.from_pretrained(MODEL_NAME).to(device)"
      ],
      "metadata": {
        "id": "pX8DJ_ivCzM4"
      },
      "execution_count": null,
      "outputs": []
    },
    {
      "cell_type": "markdown",
      "source": [
        "# --- 6. Helper Functions ---"
      ],
      "metadata": {
        "id": "dE71eeDAC0yN"
      }
    },
    {
      "cell_type": "code",
      "source": [
        "def get_sentence_embeddings(sentences):\n",
        "    inputs = tokenizer(sentences, return_tensors=\"pt\", padding=True, truncation=True).to(device)\n",
        "    with torch.no_grad():\n",
        "        outputs = bert_model(**inputs)\n",
        "    return outputs.last_hidden_state[:, 0, :]  # CLS token\n"
      ],
      "metadata": {
        "id": "TVBz_UvUC2Rh"
      },
      "execution_count": null,
      "outputs": []
    },
    {
      "cell_type": "markdown",
      "source": [
        "# --- 7. Baseline 1: TF-IDF Cosine Similarity ---"
      ],
      "metadata": {
        "id": "UEjQ_a8QC4KH"
      }
    },
    {
      "cell_type": "code",
      "source": [
        "all_sentences = sum(patient_sentences.values(), [])\n",
        "tfidf = TfidfVectorizer().fit(all_sentences + list(query_descriptions.values()))\n",
        "\n",
        "def tfidf_similarity(sentences, query):\n",
        "    sent_vecs = tfidf.transform(sentences)\n",
        "    query_vec = tfidf.transform([query_descriptions[query]])\n",
        "    return cosine_similarity(sent_vecs, query_vec).squeeze()\n"
      ],
      "metadata": {
        "id": "p9ZmPFydC59r"
      },
      "execution_count": null,
      "outputs": []
    },
    {
      "cell_type": "markdown",
      "source": [
        "# --- 8. Baseline 2: ClinicalBERT Cosine Similarity ---"
      ],
      "metadata": {
        "id": "NOzG4DUdC7Sm"
      }
    },
    {
      "cell_type": "code",
      "source": [
        "def clinicalbert_cosine_similarity(sentences, query):\n",
        "    sentence_embeds = get_sentence_embeddings(sentences)\n",
        "    query_embed = get_sentence_embeddings([query_descriptions[query]])\n",
        "    sims = torch.nn.functional.cosine_similarity(sentence_embeds, query_embed)\n",
        "    return sims.cpu().numpy()\n"
      ],
      "metadata": {
        "id": "sPsB5c2gC8-s"
      },
      "execution_count": null,
      "outputs": []
    },
    {
      "cell_type": "markdown",
      "source": [
        "# --- 9. Distantly Supervised Extractive Model ---"
      ],
      "metadata": {
        "id": "yyLVkWI9C-Y7"
      }
    },
    {
      "cell_type": "code",
      "source": [
        "class AttentionExtractor(nn.Module):\n",
        "    def __init__(self, query_embed_type='indicator'):\n",
        "        super().__init__()\n",
        "        self.query_embed_type = query_embed_type\n",
        "        self.hidden_size = 768\n",
        "        self.proj = nn.Linear(self.hidden_size, 64)\n",
        "        self.query_proj = nn.Linear(self.hidden_size, 64)\n",
        "        self.fc = nn.Sequential(\n",
        "            nn.Linear(128, 64),\n",
        "            nn.ReLU(),\n",
        "            nn.Linear(64, 1),\n",
        "            nn.Sigmoid()\n",
        "        )\n",
        "    def forward(self, sentence_embeds, query_embeds):\n",
        "        s_proj = self.proj(sentence_embeds)\n",
        "        q_proj = self.query_proj(query_embeds)\n",
        "        attn_scores = torch.matmul(s_proj, q_proj.t()).squeeze()\n",
        "        attn_weights = torch.softmax(attn_scores, dim=0)\n",
        "        context = torch.sum(attn_weights.unsqueeze(-1) * s_proj, dim=0)\n",
        "        combined = torch.cat([context, q_proj.squeeze()], dim=-1)\n",
        "        out = self.fc(combined)\n",
        "        return out.squeeze(), attn_weights\n"
      ],
      "metadata": {
        "id": "GTAQ86SgDBGF"
      },
      "execution_count": null,
      "outputs": []
    },
    {
      "cell_type": "markdown",
      "source": [
        "# --- 10. Training Loop (Tiny Demo) ---"
      ],
      "metadata": {
        "id": "sgD5sg4cDBvR"
      }
    },
    {
      "cell_type": "code",
      "source": [
        "def train_model(query_embed_type='indicator', epochs=15):\n",
        "    model = AttentionExtractor(query_embed_type).to(device)\n",
        "    optimizer = optim.Adam(model.parameters(), lr=1e-5)\n",
        "    loss_fn = nn.BCELoss()\n",
        "\n",
        "    for epoch in range(epochs):\n",
        "        model.train()\n",
        "        total_loss = 0\n",
        "        for pid, sentences in patient_sentences.items():\n",
        "            labels = torch.tensor([queries.get(query, 0) for query in queries]).float().to(device)\n",
        "            sentence_embeds = get_sentence_embeddings(sentences)\n",
        "            for i, query in enumerate(queries):\n",
        "                if query_embed_type == 'indicator':\n",
        "                    one_hot = torch.eye(len(queries))[i].unsqueeze(0).to(device)  # (1,3)\n",
        "                    query_embed = one_hot.repeat(1, 768 // len(queries))  # Expand to (1,768)\n",
        "                elif query_embed_type == 'description':\n",
        "                    query_embed = get_sentence_embeddings([query_descriptions[query]])\n",
        "                elif query_embed_type == 'hierarchy':\n",
        "                    query_embed = get_sentence_embeddings([\" > \".join([\"Diagnosis\", query])])\n",
        "                pred, _ = model(sentence_embeds, query_embed)\n",
        "                pred = pred.unsqueeze(0)\n",
        "                loss = loss_fn(pred, labels[i].unsqueeze(0))\n",
        "                optimizer.zero_grad()\n",
        "                loss.backward()\n",
        "                optimizer.step()\n",
        "                total_loss += loss.item()\n",
        "        print(f\"Epoch {epoch+1}, Loss: {total_loss:.4f}\")\n",
        "    return model\n"
      ],
      "metadata": {
        "id": "jmqztZC8DDL2"
      },
      "execution_count": null,
      "outputs": []
    },
    {
      "cell_type": "markdown",
      "source": [
        "# --- 11. Evaluate Models ---"
      ],
      "metadata": {
        "id": "l_-P8h2QDFCo"
      }
    },
    {
      "cell_type": "code",
      "source": [
        "def evaluate_attention_model(model, query_embed_type):\n",
        "    model.eval()\n",
        "    y_true = []\n",
        "    y_scores = []\n",
        "    for pid, sentences in patient_sentences.items():\n",
        "        sentence_embeds = get_sentence_embeddings(sentences)\n",
        "        for i, query in enumerate(queries):\n",
        "            if query_embed_type == 'indicator':\n",
        "                query_embed = torch.eye(len(queries))[i].unsqueeze(0).to(device)\n",
        "            elif query_embed_type == 'description':\n",
        "                query_embed = get_sentence_embeddings([query_descriptions[query]])\n",
        "            elif query_embed_type == 'hierarchy':\n",
        "                query_embed = get_sentence_embeddings([\" > \".join([\"Diagnosis\", query])])\n",
        "            pred, attn_weights = model(sentence_embeds, query_embed)\n",
        "            y_true.append(queries[query])\n",
        "            y_scores.append(pred.item())\n",
        "    auc = roc_auc_score(y_true, y_scores)\n",
        "    print(f\"AUROC: {auc:.4f}\")\n",
        "    return y_true, y_scores\n"
      ],
      "metadata": {
        "id": "U7GEOa8vDGnT"
      },
      "execution_count": null,
      "outputs": []
    },
    {
      "cell_type": "markdown",
      "source": [
        "# --- 12. Run Everything ---"
      ],
      "metadata": {
        "id": "7WKeQPS_DIMR"
      }
    },
    {
      "cell_type": "code",
      "source": [
        "print(\"Training Indicator model...\")\n",
        "model_indicator = train_model('indicator')\n",
        "print(\"Training Description model...\")\n",
        "model_description = train_model('description')\n",
        "print(\"Training Hierarchy model...\")\n",
        "model_hierarchy = train_model('hierarchy')\n",
        "\n",
        "# Evaluate\n",
        "print(\"\\nEvaluation Results\")\n",
        "y_true, y_scores = evaluate_attention_model(model_hierarchy, 'hierarchy')\n"
      ],
      "metadata": {
        "colab": {
          "base_uri": "https://localhost:8080/"
        },
        "id": "y4yj9QaADKHX",
        "outputId": "5cf9275f-8408-4a2c-b43d-0137bac38739"
      },
      "execution_count": null,
      "outputs": [
        {
          "output_type": "stream",
          "name": "stdout",
          "text": [
            "Training Indicator model...\n",
            "Epoch 1, Loss: 6.0175\n",
            "Epoch 2, Loss: 5.9164\n",
            "Epoch 3, Loss: 5.8232\n",
            "Epoch 4, Loss: 5.7361\n",
            "Epoch 5, Loss: 5.6523\n",
            "Epoch 6, Loss: 5.5714\n",
            "Epoch 7, Loss: 5.4935\n",
            "Epoch 8, Loss: 5.4208\n",
            "Epoch 9, Loss: 5.3524\n",
            "Epoch 10, Loss: 5.2851\n",
            "Epoch 11, Loss: 5.2183\n",
            "Epoch 12, Loss: 5.1527\n",
            "Epoch 13, Loss: 5.0879\n",
            "Epoch 14, Loss: 5.0241\n",
            "Epoch 15, Loss: 4.9607\n",
            "Training Description model...\n",
            "Epoch 1, Loss: 6.2635\n",
            "Epoch 2, Loss: 6.2280\n",
            "Epoch 3, Loss: 6.1986\n",
            "Epoch 4, Loss: 6.1694\n",
            "Epoch 5, Loss: 6.1411\n",
            "Epoch 6, Loss: 6.1131\n",
            "Epoch 7, Loss: 6.0853\n",
            "Epoch 8, Loss: 6.0582\n",
            "Epoch 9, Loss: 6.0309\n",
            "Epoch 10, Loss: 6.0028\n",
            "Epoch 11, Loss: 5.9736\n",
            "Epoch 12, Loss: 5.9444\n",
            "Epoch 13, Loss: 5.9157\n",
            "Epoch 14, Loss: 5.8869\n",
            "Epoch 15, Loss: 5.8581\n",
            "Training Hierarchy model...\n",
            "Epoch 1, Loss: 6.3609\n",
            "Epoch 2, Loss: 6.3216\n",
            "Epoch 3, Loss: 6.2913\n",
            "Epoch 4, Loss: 6.2637\n",
            "Epoch 5, Loss: 6.2374\n",
            "Epoch 6, Loss: 6.2124\n",
            "Epoch 7, Loss: 6.1880\n",
            "Epoch 8, Loss: 6.1645\n",
            "Epoch 9, Loss: 6.1421\n",
            "Epoch 10, Loss: 6.1206\n",
            "Epoch 11, Loss: 6.0991\n",
            "Epoch 12, Loss: 6.0787\n",
            "Epoch 13, Loss: 6.0587\n",
            "Epoch 14, Loss: 6.0391\n",
            "Epoch 15, Loss: 6.0190\n",
            "\n",
            "Evaluation Results\n",
            "AUROC: 1.0000\n"
          ]
        }
      ]
    },
    {
      "cell_type": "markdown",
      "source": [
        "# --- 13. Plot PR Curve ---"
      ],
      "metadata": {
        "id": "5o9BTx8KDL4L"
      }
    },
    {
      "cell_type": "code",
      "source": [
        "precision, recall, _ = precision_recall_curve(y_true, y_scores)\n",
        "plt.plot(recall, precision, label='Hierarchy model')\n",
        "plt.xlabel('Recall')\n",
        "plt.ylabel('Precision')\n",
        "plt.title('Precision-Recall Curve')\n",
        "plt.legend()\n",
        "plt.show()\n"
      ],
      "metadata": {
        "colab": {
          "base_uri": "https://localhost:8080/",
          "height": 472
        },
        "id": "05hDC4WEDNKT",
        "outputId": "18aa41de-29c0-4319-dc00-85545c589cd7"
      },
      "execution_count": null,
      "outputs": [
        {
          "output_type": "display_data",
          "data": {
            "text/plain": [
              "<Figure size 640x480 with 1 Axes>"
            ],
            "image/png": "[encoded data removed]"
          },
          "metadata": {}
        }
      ]
    }
  ]
}